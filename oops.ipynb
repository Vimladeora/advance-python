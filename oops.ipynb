{
 "cells": [
  {
   "cell_type": "code",
   "execution_count": 5,
   "id": "b3b89e8f-7c60-4038-b3e6-96553c786045",
   "metadata": {},
   "outputs": [
    {
     "name": "stdout",
     "output_type": "stream",
     "text": [
      "Name of student is :amit  and Branch is: civil and Semester is:second\n"
     ]
    }
   ],
   "source": [
    "class Student:\n",
    "\n",
    "    def __init__(self,Name,Branch,Semester):\n",
    "        self.Name = Name\n",
    "        self.Branch = Branch\n",
    "        self.Semester = Semester\n",
    "\n",
    "    def getInfo(self):\n",
    "        print(f\"Name of student is :{self.Name}  and Branch is: {self.Branch} and Semester is:{self.Semester}\")\n",
    "a= Student('amit','civil','second')\n",
    "a.getInfo()"
   ]
  },
  {
   "cell_type": "code",
   "execution_count": 14,
   "id": "df7444e8-920d-4232-9dec-bcfc69496ed9",
   "metadata": {},
   "outputs": [
    {
     "name": "stdin",
     "output_type": "stream",
     "text": [
      "Enter salary: ₹ 50000\n"
     ]
    },
    {
     "name": "stdout",
     "output_type": "stream",
     "text": [
      "amount after ₹10,000 deduction: ₹ 40000.0\n"
     ]
    }
   ],
   "source": [
    "class Salary:\n",
    "    def __init__(self, amount):\n",
    "        self.amount = amount\n",
    "\n",
    "    def deduct(self):\n",
    "        self.amount -= 10000\n",
    "\n",
    "    def show(self):\n",
    "        print(\"amount after ₹10,000 deduction: ₹\", self.amount)\n",
    "\n",
    "\n",
    "\n",
    "user_input = float(input(\"Enter salary: ₹\"))\n",
    "my_salary = Salary(user_input) \n",
    "\n",
    "my_salary.deduct()   \n",
    "my_salary.show()  \n"
   ]
  },
  {
   "cell_type": "code",
   "execution_count": 3,
   "id": "dd59deaa-a10e-44e0-b852-647692ab1b12",
   "metadata": {},
   "outputs": [
    {
     "name": "stdout",
     "output_type": "stream",
     "text": [
      "12\n",
      "8\n",
      "20\n",
      "5.0\n"
     ]
    }
   ],
   "source": [
    "class calculator :\n",
    "    def __init__(self,num1,num2):\n",
    "        self.num1 = num1\n",
    "        self.num2 = num2\n",
    "\n",
    "    def add(self):\n",
    "        return self.num1+self.num2\n",
    "\n",
    "    def subtract(self):\n",
    "        return self.num1-self.num2    \n",
    "\n",
    "    def multiply(self):\n",
    "        return self.num1*self.num2 \n",
    "\n",
    "    def divide(self):\n",
    "        if self.num2 != 0:\n",
    "            return self.num1/self.num2\n",
    "        else:\n",
    "            return \"division by zero is not allowed\"\n",
    "\n",
    "calc =calculator(10,2)\n",
    "\n",
    "print(calc.add())\n",
    "print(calc.subtract())\n",
    "print(calc.multiply())\n",
    "print(calc.divide())\n",
    "\n",
    "        "
   ]
  },
  {
   "cell_type": "code",
   "execution_count": 12,
   "id": "20bc994e-498f-45e7-8b0b-e6a23d68d37c",
   "metadata": {},
   "outputs": [
    {
     "name": "stdout",
     "output_type": "stream",
     "text": [
      "500 deposited.new balance: 1500\n",
      "300 withdrawn.remaining balance: 1200\n",
      "account balance for saurabh: 1200\n"
     ]
    }
   ],
   "source": [
    "class Bankaccount:\n",
    "    def __init__(self,holder_name,balance = 0):\n",
    "        self.holder_name = holder_name\n",
    "        self.balance = balance\n",
    " \n",
    "    def deposit(self ,amount):\n",
    "        self.balance += amount\n",
    "        print(f\"{amount} deposited.new balance: {self.balance}\")\n",
    "\n",
    "    def withdraw(self,amount):\n",
    "        if amount <= self.balance:\n",
    "            self.balance -= amount       \n",
    "            print(f\"{amount} withdrawn.remaining balance: {self.balance}\")\n",
    "        else:\n",
    "            print(\"insufficient funds\")\n",
    "\n",
    "    def check_balance(self):\n",
    "        \n",
    "        return f\"account balance for {self.holder_name}: {self.balance}\"\n",
    "\n",
    "account = Bankaccount(\"saurabh\",1000)\n",
    "account.deposit(500)  \n",
    "account.withdraw(300)\n",
    "print(account.check_balance())\n"
   ]
  },
  {
   "cell_type": "code",
   "execution_count": 2,
   "id": "ab2913e6-ba89-42ea-905c-6eec8d2ae4d3",
   "metadata": {},
   "outputs": [],
   "source": [
    "# students marks and its average\n",
    "\n",
    "class Student:\n",
    "    def __init__(self, name):\n",
    "        self.name = name\n",
    "        self.subjects = {}\n",
    "\n",
    "    def add_marks(self, subject, marks):\n",
    "        self.subjects[subject] = marks\n",
    "\n",
    "    def average(self):\n",
    "        return sum(self.subjects.values()) / len(self.subjects)\n",
    "\n",
    "    def show_report(self):\n",
    "        print(f\"Report for {self.name}\")\n",
    "        for sub, marks in self.subjects.items():\n",
    "            print(f\"{sub}: {mark}\")\n",
    "        print(f\"average: {self.average():.2f}\")\n"
   ]
  },
  {
   "cell_type": "code",
   "execution_count": 4,
   "id": "bfed8628-2ce0-47a0-86b5-742fe2288f5c",
   "metadata": {},
   "outputs": [
    {
     "name": "stdout",
     "output_type": "stream",
     "text": [
      "name of employee is sam and salary is 20000\n",
      "sam\n"
     ]
    }
   ],
   "source": [
    " class Employee:\n",
    "\n",
    "\n",
    "    def __init__(self,name,salary):\n",
    "        self.name = name\n",
    "        self.__salary = salary\n",
    " \n",
    "    def getInfo(self):\n",
    "        print(f\"name of employee is {self.name} and salary is {self.__salary}\")\n",
    "\n",
    "a= Employee('sam',20000)\n",
    "a.getInfo()\n",
    "print(a.name)"
   ]
  },
  {
   "cell_type": "code",
   "execution_count": 4,
   "id": "28d12dc4-1c9c-4733-917b-665eb72809d4",
   "metadata": {},
   "outputs": [
    {
     "name": "stdout",
     "output_type": "stream",
     "text": [
      "sam\n",
      "5000\n",
      "deposit successfully new balance 6000\n",
      "withdrawl succcessfully ! new balance: 4000\n"
     ]
    }
   ],
   "source": [
    "class Bankaccount:\n",
    "    def __init__(self,account_holder,balance):\n",
    "        self.__account_holder = account_holder\n",
    "        self.__balance = balance\n",
    " \n",
    "    def get_account_holder(self):\n",
    "        return self.__account_holder\n",
    "\n",
    "    def get_balance(self):\n",
    "        return self.__balance\n",
    "\n",
    "    def deposit (self,amount):\n",
    "        if amount > 0:\n",
    "            self.__balance += amount\n",
    "\n",
    "            return f\"deposit successfully new balance {self.__balance}\"\n",
    "        else:\n",
    "            return \"invalid deposit amount\"\n",
    "\n",
    "    def withdraw(self,amount):\n",
    "        if amount <= self.__balance:\n",
    "            self.__balance -= amount\n",
    "\n",
    "            return f\"withdrawl succcessfully ! new balance: {self.__balance}\"\n",
    "        else:\n",
    "            return \"insuffcient funds\"\n",
    "\n",
    "account = Bankaccount(\"sam\",5000)\n",
    "print(account.get_account_holder())\n",
    "print(account.get_balance())\n",
    "print(account.deposit(1000))\n",
    "print(account.withdraw(2000))\n",
    "\n"
   ]
  },
  {
   "cell_type": "code",
   "execution_count": 5,
   "id": "858cf71a-d032-4ac2-9a92-a98573b8a5ca",
   "metadata": {},
   "outputs": [
    {
     "name": "stdout",
     "output_type": "stream",
     "text": [
      "rohit\n",
      "85\n",
      "grade updated successsfully\n",
      "75\n",
      "invalid grade, must be between 0 to 100\n"
     ]
    }
   ],
   "source": [
    "class student:\n",
    "    def __init__(self,name,grade):\n",
    "        self.name = name\n",
    "        self.__grade = grade\n",
    "\n",
    "    def get_grade(self):\n",
    "        return self.__grade\n",
    "\n",
    "    def set_grade(self,new_grade):\n",
    "        if 0 <= new_grade <= 100:\n",
    "            self.__grade = new_grade\n",
    "            return \"grade updated successsfully\"\n",
    "        else:\n",
    "            return \"invalid grade, must be between 0 to 100\"\n",
    "\n",
    "student = student(\"rohit\",85)\n",
    "print(student.name)\n",
    "print(student.get_grade())\n",
    "print(student.set_grade(75))\n",
    "print(student.get_grade())\n",
    "print(student.set_grade(150))\n",
    "\n"
   ]
  },
  {
   "cell_type": "code",
   "execution_count": 15,
   "id": "6ebbdc1d-ce4e-4b47-b558-8983d822b57d",
   "metadata": {},
   "outputs": [
    {
     "name": "stdout",
     "output_type": "stream",
     "text": [
      "method record added for rohit\n",
      "method record added for rohit\n",
      "method record added for rohit\n",
      "medical history for rohit: ['2024 :flu diagnosis', '2024 :blood test result normal', '2024 :covid']\n"
     ]
    }
   ],
   "source": [
    "class patient:\n",
    "    def __init__(self,name,age):\n",
    "        self.__name =name\n",
    "        self.__age = age\n",
    "        self.__medical_history = []\n",
    "\n",
    "    def add_medical_record(self,record):\n",
    "        self.__medical_history.append(record)\n",
    "        return f\"method record added for {self.__name}\"\n",
    "    def get_medical_history(self):\n",
    "        return f\"medical history for {self.__name}: {self.__medical_history}\"\n",
    "\n",
    "patient = patient(\"rohit\",30)\n",
    "print(patient.add_medical_record(\"2024 :flu diagnosis\"))\n",
    "print(patient.add_medical_record(\"2024 :blood test result normal\"))\n",
    "print(patient.add_medical_record(\"2024 :covid\"))\n",
    "\n",
    "print(patient.get_medical_history())\n",
    "      "
   ]
  },
  {
   "cell_type": "code",
   "execution_count": 4,
   "id": "3e6576e4-f10e-4619-a628-c2a33dfe23cf",
   "metadata": {},
   "outputs": [
    {
     "name": "stdout",
     "output_type": "stream",
     "text": [
      "name of location is jaipur\n",
      "project is schedule....\n",
      "name of location is delhi\n"
     ]
    }
   ],
   "source": [
    "# single inheritance\n",
    "\n",
    "class employee:\n",
    "     def __init__(self,location):\n",
    "         self.location = location\n",
    "     def get_location(self):\n",
    "         print(f\"name of location is {self.location}\")\n",
    "\n",
    "class manager(employee):\n",
    "    def get_project(self):\n",
    "        print(\"project is schedule....\")\n",
    "\n",
    "sam = employee('jaipur')\n",
    "sam.get_location()\n",
    "mohit = manager('delhi')     \n",
    "mohit.get_project()\n",
    "mohit.get_location()\n",
    "    "
   ]
  },
  {
   "cell_type": "code",
   "execution_count": 5,
   "id": "8260582e-24d7-43ab-a368-d11d4549d37d",
   "metadata": {},
   "outputs": [
    {
     "name": "stdout",
     "output_type": "stream",
     "text": [
      "engine started\n",
      "wheels are rotating\n",
      "car is driving\n"
     ]
    }
   ],
   "source": [
    "# multiple inhertance\n",
    "\n",
    "class engine:\n",
    "    def start_engine(self):\n",
    "        print(\"engine started\")\n",
    "\n",
    "class wheels:\n",
    "    def rotate_wheels(self):\n",
    "        print(\"wheels are rotating\")\n",
    "\n",
    "class car(engine, wheels):\n",
    "    def drive(self):\n",
    "        print(\"car is driving\")\n",
    "\n",
    "my_car= car()\n",
    "my_car.start_engine()\n",
    "my_car.rotate_wheels()\n",
    "my_car.drive()\n",
    "        "
   ]
  },
  {
   "cell_type": "code",
   "execution_count": 10,
   "id": "d05b1098-e2ab-43a6-b3f7-6b48279b6e90",
   "metadata": {},
   "outputs": [
    {
     "name": "stdout",
     "output_type": "stream",
     "text": [
      "animal is eating\n",
      "dog is barking\n",
      "puppy is weeping\n"
     ]
    }
   ],
   "source": [
    "# multilevel inheritance\n",
    "\n",
    "class animal:\n",
    "    def eat(self):\n",
    "        print(\"animal is eating\")\n",
    "        \n",
    "class dog(animal):\n",
    "    def bark(self):\n",
    "        print(\"dog is barking\")\n",
    "\n",
    "class puppy(dog):\n",
    "    def weep(self):\n",
    "        print(\"puppy is weeping\")\n",
    "\n",
    "puppy = puppy()\n",
    "puppy.eat()\n",
    "puppy.bark()\n",
    "puppy.weep()\n",
    "        "
   ]
  },
  {
   "cell_type": "code",
   "execution_count": 31,
   "id": "fc9b8df7-3786-46d1-96d1-a1cf97aeda04",
   "metadata": {},
   "outputs": [],
   "source": [
    "class Customer:\n",
    "    def __init__(self, name, contact):\n",
    "        self.name = name\n",
    "        self.contact = contact\n",
    "\n",
    "    def get_details(self):\n",
    "        return f\"Customer Name: {self.name}, Contact: {self.contact}\"\n"
   ]
  },
  {
   "cell_type": "code",
   "execution_count": 17,
   "id": "e30c78ee-17ea-45a7-9a6e-9ef5e43408e4",
   "metadata": {},
   "outputs": [
    {
     "name": "stdout",
     "output_type": "stream",
     "text": [
      "tech solutions\n",
      "future tech\n"
     ]
    },
    {
     "data": {
      "text/plain": [
       "'physics'"
      ]
     },
     "execution_count": 17,
     "metadata": {},
     "output_type": "execute_result"
    }
   ],
   "source": [
    "class employee:\n",
    "    company_name ='tech solutions'\n",
    "\n",
    "    def __init__(self,name,salary):\n",
    "        self.name=name\n",
    "        self.salary=salary\n",
    "\n",
    "    @classmethod\n",
    "    def change_company_name(cls,new_name):\n",
    "        cls.company_name = new_name\n",
    "\n",
    "\n",
    "emp1=employee(\"sam\",50000)\n",
    "emp1=employee(\"rahul\",60000)\n",
    "emp1=employee(\"sumit\",75000)\n",
    "\n",
    "print(employee.company_name)\n",
    "\n",
    "\n",
    "employee.change_company_name('future tech')\n",
    "print(employee.company_name)\n",
    "\n",
    "emp1.company_name\n",
    "emp1.change_company_name('physics')\n",
    "emp1.company_name\n",
    "\n",
    "        "
   ]
  },
  {
   "cell_type": "code",
   "execution_count": 3,
   "id": "c94c0afe-42ac-48b0-b4e6-ef8a2ed131fb",
   "metadata": {},
   "outputs": [
    {
     "name": "stdout",
     "output_type": "stream",
     "text": [
      "name od employee i sam and role isfrontenddeveloper\n",
      "this is great job\n",
      "total= 12\n"
     ]
    }
   ],
   "source": [
    "# decorator\n",
    "\n",
    "class employee:\n",
    "    location = 'jaipur'\n",
    "\n",
    "    def __init__(self,name,role):\n",
    "        self.name = name\n",
    "        self.role= role\n",
    "\n",
    "    def getInfo(self):\n",
    "        print(f\"name od employee i {self.name} and role is{self.role}\")\n",
    "    @staticmethod    \n",
    "    def NewInfo():\n",
    "        print(f\"this is great job\")\n",
    "        a=5\n",
    "        b=7\n",
    "        c=a+b\n",
    "        print(\"total=\",c)\n",
    "\n",
    "a=employee('sam','frontenddeveloper')\n",
    "a.getInfo()\n",
    "a.NewInfo()"
   ]
  },
  {
   "cell_type": "code",
   "execution_count": 10,
   "id": "8765b2a9-b909-4cc5-94cf-316fbddff936",
   "metadata": {},
   "outputs": [
    {
     "name": "stdout",
     "output_type": "stream",
     "text": [
      "helloe, i am sam from the parent class\n",
      "i am 10 years old from the child class\n"
     ]
    }
   ],
   "source": [
    "class parent:\n",
    "    def __init__(self,name):\n",
    "        self.name = name\n",
    "\n",
    "    def greet(self):\n",
    "        print(f\"helloe, i am {self.name} from the parent class\")\n",
    "class child(parent):\n",
    "    def __init__(self,name,age):\n",
    "        super().__init__(name)\n",
    "        self.age=age\n",
    "        \n",
    "    def greet (self):\n",
    "        super().greet()\n",
    "        print(f\"i am {self.age} years old from the child class\")\n",
    "child = child(\"sam\",10)\n",
    "child.greet()\n",
    "        \n"
   ]
  },
  {
   "cell_type": "code",
   "execution_count": 30,
   "id": "3880b66b-db9e-4e0a-9b2e-9ef16e5eb6c4",
   "metadata": {},
   "outputs": [
    {
     "name": "stdout",
     "output_type": "stream",
     "text": [
      "Name: Sam, Contact: 98765432101. Laptop - ₹60000\n",
      "2. Mobile - ₹40000\n",
      "Total Price: 100000\n"
     ]
    }
   ],
   "source": [
    "class Customer:\n",
    "    def __init__(self, name, contact):\n",
    "        self.name = name\n",
    "        self.contact = contact\n",
    "\n",
    "    def get_details(self):\n",
    "        return f\"Name: {self.name}, Contact: {self.contact}\"\n",
    "\n",
    "\n",
    "class Product:\n",
    "    def __init__(self, name, price):\n",
    "        self.name = name\n",
    "        self.price = price\n",
    "\n",
    "    def get_details(self):\n",
    "        return f\"{self.name} - ₹{self.price}\"\n",
    "\n",
    "\n",
    "class Order:\n",
    "    def __init__(self, customer):\n",
    "        self.customer = customer\n",
    "        self.products = []\n",
    "\n",
    "    def add_product(self, product):\n",
    "        self.products.append(product)\n",
    "\n",
    "    def get_order_summary(self):\n",
    "        summary = self.customer.get_details() \n",
    "        total = 0             \n",
    "        for idx, product in enumerate(self.products, start=1):\n",
    "            summary += f\"{idx}. {product.get_details()}\\n\"\n",
    "            total += product.price\n",
    "        summary += f\"Total Price: {total}\"\n",
    "        return summary\n",
    "\n",
    "customer1 = Customer(\"Sam\", \"9876543210\")\n",
    "product1 = Product(\"Laptop\", 60000)\n",
    "product2 = Product(\"Mobile\", 40000)\n",
    "\n",
    "order1 = Order(customer1)\n",
    "order1.add_product(product1)\n",
    "order1.add_product(product2)\n",
    "\n",
    "print(order1.get_order_summary())\n"
   ]
  },
  {
   "cell_type": "code",
   "execution_count": null,
   "id": "cfc1e6c3-40ce-47f3-aca9-1bb1c60c3ff2",
   "metadata": {},
   "outputs": [],
   "source": []
  },
  {
   "cell_type": "code",
   "execution_count": null,
   "id": "f72f2bbc-ebff-44cc-b475-348a6dcf9d63",
   "metadata": {},
   "outputs": [],
   "source": []
  },
  {
   "cell_type": "code",
   "execution_count": null,
   "id": "b80f4e41-f6c0-4c33-8bbf-19a32b497464",
   "metadata": {},
   "outputs": [],
   "source": []
  },
  {
   "cell_type": "code",
   "execution_count": null,
   "id": "fb86006c-1b79-46e8-a66f-d2d9c0f2f58a",
   "metadata": {},
   "outputs": [],
   "source": []
  },
  {
   "cell_type": "code",
   "execution_count": null,
   "id": "500e457b-2ad0-4ba4-9bf5-a9d84b119fe5",
   "metadata": {},
   "outputs": [],
   "source": []
  },
  {
   "cell_type": "code",
   "execution_count": null,
   "id": "8289e809-e5df-4b5d-bb6f-34dda7c94f9b",
   "metadata": {},
   "outputs": [],
   "source": []
  },
  {
   "cell_type": "code",
   "execution_count": null,
   "id": "248a9eb0-9040-4dc9-a9ab-193c9028e662",
   "metadata": {},
   "outputs": [],
   "source": []
  },
  {
   "cell_type": "code",
   "execution_count": 2,
   "id": "b5f07313-f50d-49f5-9ecf-354a5ab6da72",
   "metadata": {},
   "outputs": [
    {
     "name": "stdout",
     "output_type": "stream",
     "text": [
      "Customer Name: Alice, Contact: alice@example.com1. Product: Laptop, Price: $1200.00\n",
      "2. Product: Mouse, Price: $25.00\n",
      "Total Price: $1225.00\n"
     ]
    }
   ],
   "source": [
    "class Customer:\n",
    "    def __init__(self, name, contact):\n",
    "        self.name = name\n",
    "        self.contact = contact\n",
    "\n",
    "    def get_details(self):\n",
    "        return f\"Customer Name: {self.name}, Contact: {self.contact}\"\n",
    "\n",
    "\n",
    "class Product:\n",
    "    def __init__(self, name, price):\n",
    "        self.name = name\n",
    "        self.price = price\n",
    "\n",
    "    def get_details(self):\n",
    "        return f\"Product: {self.name}, Price: ${self.price:.2f}\"\n",
    "\n",
    "\n",
    "class Order:\n",
    "    def __init__(self, customer):\n",
    "        self.customer = customer               \n",
    "        self.products = []\n",
    "\n",
    "    def add_product(self, product):\n",
    "        self.products.append(product)\n",
    "\n",
    "    def get_order_summary(self):\n",
    "        summary = self.customer.get_details() \n",
    "        total = 0\n",
    "        for idx, product in enumerate(self.products, start=1):\n",
    "            summary += f\"{idx}. {product.get_details()}\\n\"\n",
    "            total += product.price\n",
    "        summary += f\"Total Price: ${total:.2f}\"\n",
    "        return summary\n",
    "\n",
    "\n",
    "customer1 = Customer(\"Alice\", \"alice@example.com\")\n",
    "product1 = Product(\"Laptop\", 1200)\n",
    "product2 = Product(\"Mouse\", 25)\n",
    "\n",
    "order1 = Order(customer1)\n",
    "order1.add_product(product1)\n",
    "order1.add_product(product2)\n",
    "\n",
    "print(order1.get_order_summary())\n"
   ]
  },
  {
   "cell_type": "code",
   "execution_count": null,
   "id": "97ecefdc-02d9-4881-b9f9-7a5fd267168d",
   "metadata": {},
   "outputs": [],
   "source": [
    "imagine a payment processing fro an e commerce application . the system can handle multiple payment method"
   ]
  },
  {
   "cell_type": "code",
   "execution_count": 7,
   "id": "ce1ed238-3e44-4625-92e4-7afab1ab6c28",
   "metadata": {},
   "outputs": [
    {
     "name": "stdout",
     "output_type": "stream",
     "text": [
      "processing credit card payment of $100.5\n",
      "processing paypal payment of $200.75\n",
      "processing bank transfer payment of $500.0\n"
     ]
    }
   ],
   "source": [
    "#polymorephism\n",
    "\n",
    "class paymentmethod:\n",
    "    def process_payment(self,amount):\n",
    "        raise noImplementError(\"subclasses mustimplement this method\")\n",
    "\n",
    "class creditcardpayment(paymentmethod):\n",
    "    def process_payment(self,amount):\n",
    "        print(f\"processing credit card payment of ${amount}\")\n",
    "\n",
    "class paypalpayment(paymentmethod):\n",
    "    def process_payment(self,amount):\n",
    "        print(f\"processing paypal payment of ${amount}\")\n",
    "\n",
    "class banktransferpayment(paymentmethod):\n",
    "    def process_payment(self,amount):\n",
    "        print(f\"processing bank transfer payment of ${amount}\")\n",
    "\n",
    "def process_transaction(payment_method,amount):\n",
    "    payment_method.process_payment(amount)\n",
    "\n",
    "if __name__ == \"__main__\":\n",
    "    credit_card = creditcardpayment()\n",
    "    paypal = paypalpayment()\n",
    "    bank_transfer = banktransferpayment()\n",
    "\n",
    "    process_transaction(credit_card, 100.50)\n",
    "    process_transaction(paypal,200.75)\n",
    "    process_transaction(bank_transfer,500.00)\n",
    "        "
   ]
  },
  {
   "cell_type": "code",
   "execution_count": null,
   "id": "387d616a-facc-4eb4-a604-b4bb591ec039",
   "metadata": {},
   "outputs": [],
   "source": [
    "class Employee:\n",
    "    def calculate_salary(self):\n",
    "        raise NotImplementedError(\"Subclass must implement this method\")\n",
    "\n",
    "\n",
    "class FulltimeEmployee(Employee):\n",
    "    def __init__(self, monthly_salary):\n",
    "        self.monthly_salary = monthly_salary\n",
    "\n",
    "    def calculate_salary(self):\n",
    "        return self.monthly_salary\n",
    "\n",
    "\n",
    "class ParttimeEmployee(Employee):\n",
    "    def __init__(self, hourly_rate, hours_worked):\n",
    "        self.hourly_rate = hourly_rate\n",
    "        self.hours_worked = hours_worked\n",
    "\n",
    "    def calculate_salary(self):\n",
    "        return self.hourly_rate * self.hours_worked\n",
    "\n",
    "\n",
    "class Freelancer(Employee):\n",
    "    def __init__(self, project_rate):\n",
    "        self.project_rate = project_rate\n",
    "\n",
    "    def calculate_salary(self):\n",
    "        return self.project_rate\n",
    "\n",
    "\n",
    "def display_employee_salary(employee):\n",
    "    print(f\"Salary: ${employee.calculate_salary()}\")\n",
    "\n",
    "\n",
    "if __name__ == \"__main__\":\n",
    "    full_time_employee = FulltimeEmployee(monthly_salary=5000)\n",
    "    part_time_employee = ParttimeEmployee(hourly_rate=20, hours_worked=80)\n",
    "    freelancer = Freelancer(project_rate=3000)\n",
    "\n",
    "    print(\"Full-time employee:\")\n",
    "    display_employee_salary(full_time_employee)\n",
    "\n",
    "    print(\"\\nPart-time employee:\")\n",
    "    display_employee_salary(part_time_employee)\n",
    "\n",
    "    print(\"\\nFreelancer:\")\n",
    "    display_employee_salary(freelancer)\n"
   ]
  },
  {
   "cell_type": "code",
   "execution_count": null,
   "id": "d2cc29f5-3fa0-4121-9bbc-534f552ea0fc",
   "metadata": {},
   "outputs": [],
   "source": [
    "in a company there are differenet types of employee such as full time employee part,timeemployee, and freelancer "
   ]
  }
 ],
 "metadata": {
  "kernelspec": {
   "display_name": "Python 3 (ipykernel)",
   "language": "python",
   "name": "python3"
  },
  "language_info": {
   "codemirror_mode": {
    "name": "ipython",
    "version": 3
   },
   "file_extension": ".py",
   "mimetype": "text/x-python",
   "name": "python",
   "nbconvert_exporter": "python",
   "pygments_lexer": "ipython3",
   "version": "3.11.3"
  }
 },
 "nbformat": 4,
 "nbformat_minor": 5
}
